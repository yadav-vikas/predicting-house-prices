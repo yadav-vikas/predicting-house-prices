{
 "cells": [
  {
   "cell_type": "code",
   "execution_count": null,
   "metadata": {},
   "outputs": [],
   "source": [
    "# given_list = [7, 5, 4, 4, 3, 1, -2, -3, -5]\n",
    "# i = 0\n",
    "# total = 0\n",
    "# for i in given_list:\n",
    "#     #print(\"i=\",i)\n",
    "#     if given_list[i] <=0:\n",
    "#         #print(\"i=\",i)\n",
    "#         #print(\"given_list=\",given_list[i])\n",
    "#         total += i\n",
    "# print(total)"
   ]
  },
  {
   "cell_type": "code",
   "execution_count": null,
   "metadata": {},
   "outputs": [],
   "source": [
    "given_list = [7, 5, 4, 4, 3, 1, -2, -3, -5]\n",
    "i = 0\n",
    "total = 0\n",
    "for i in given_list:\n",
    "        if i <=0:\n",
    "            total += i\n",
    "print(total)"
   ]
  },
  {
   "cell_type": "code",
   "execution_count": null,
   "metadata": {},
   "outputs": [],
   "source": [
    "import numpy as np\n",
    "x = np.array([[1, 2],[3, 4],[5, 6]])\n",
    "show=list(x.shape)\n"
   ]
  },
  {
   "cell_type": "code",
   "execution_count": null,
   "metadata": {},
   "outputs": [],
   "source": [
    "print((show))"
   ]
  },
  {
   "cell_type": "code",
   "execution_count": null,
   "metadata": {},
   "outputs": [],
   "source": [
    "print(show[0]*show[1])"
   ]
  },
  {
   "cell_type": "code",
   "execution_count": null,
   "metadata": {},
   "outputs": [],
   "source": [
    "from IPython.display import Image, display\n",
    "dota=Image(filename='dota.png')\n",
    "print(display(dota)"
   ]
  },
  {
   "cell_type": "code",
   "execution_count": null,
   "metadata": {},
   "outputs": [],
   "source": [
    "#1:palindrome no\n",
    "n=int(input(\"enter n\"))\n",
    "temp=n\n",
    "reverse=0\n",
    "while(n>0):\n",
    "    \n",
    "    remainder=n%10\n",
    "    reverse=reverse*10+remainder\n",
    "    n=n//10\n",
    "    print(reverse)\n",
    "if(reverse==temp):\n",
    "    print(\"palindrome\")\n",
    "else:\n",
    "    print(\"not\")\n"
   ]
  },
  {
   "cell_type": "code",
   "execution_count": null,
   "metadata": {},
   "outputs": [],
   "source": [
    "#fibonaci string\n",
    "n=str(input())\n",
    "temp=n[::-1]\n",
    "if(n==temp):\n",
    "    print(\"pal\")\n",
    "else:\n",
    "    print(\"not\")"
   ]
  },
  {
   "cell_type": "code",
   "execution_count": 5,
   "metadata": {},
   "outputs": [
    {
     "name": "stdout",
     "output_type": "stream",
     "text": [
      "enter10\n",
      "0 1 1 2 3 5 8 13 21 34 55 89 "
     ]
    }
   ],
   "source": [
    "#fobinacci series\n",
    "n=int(input(\"enter\"))\n",
    "n1=0\n",
    "n2=1\n",
    "print(n1,n2,end=' ')\n",
    "for i in range(n):\n",
    "    \n",
    "    n3=n1+n2\n",
    "    print(n3,end=' ')\n",
    "    n1=n2\n",
    "    n2=n3"
   ]
  },
  {
   "cell_type": "code",
   "execution_count": 8,
   "metadata": {},
   "outputs": [
    {
     "name": "stdout",
     "output_type": "stream",
     "text": [
      "enter153\n",
      "armstrong\n"
     ]
    }
   ],
   "source": [
    "#armstrong number\n",
    "n=int(input(\"enter\"))\n",
    "temp=n\n",
    "reverse=0\n",
    "while(n>0):\n",
    "    remainder=n%10\n",
    "    reverse=pow(remainder,3)+reverse\n",
    "    n=n//10\n",
    "if(temp==reverse):\n",
    "    print(\"armstrong\")\n",
    "else:\n",
    "    print(\"not armstrong\")"
   ]
  },
  {
   "cell_type": "code",
   "execution_count": 11,
   "metadata": {},
   "outputs": [
    {
     "name": "stdout",
     "output_type": "stream",
     "text": [
      "enter n82\n",
      " happy\n"
     ]
    }
   ],
   "source": [
    "#happy number\n",
    "n=int(input(\"enter n\"))\n",
    "sum=0\n",
    "temp=n\n",
    "while(n>0):\n",
    "    remainder=n%10\n",
    "    sum=sum+(remainder**2)\n",
    "    n=n//10\n",
    "if(sum==1 and sum==4):\n",
    "    print(\"not happy\")\n",
    "else:\n",
    "    print(\" happy\")"
   ]
  },
  {
   "cell_type": "code",
   "execution_count": 22,
   "metadata": {},
   "outputs": [
    {
     "name": "stdout",
     "output_type": "stream",
     "text": [
      "enter4\n",
      "24\n"
     ]
    }
   ],
   "source": [
    "#factorial\n",
    "n=int(input(\"enter\"))\n",
    "fact=1\n",
    "for i in range(1,n+1):\n",
    "    fact=fact*i\n",
    "    \n",
    "print(fact)"
   ]
  },
  {
   "cell_type": "code",
   "execution_count": 27,
   "metadata": {},
   "outputs": [
    {
     "name": "stdout",
     "output_type": "stream",
     "text": [
      "n=4\n",
      "3 4 1 2\n",
      "[1, 2, 3, 4]\n"
     ]
    }
   ],
   "source": [
    "#bubble sort\n",
    "n=int(input(\"n=\"))\n",
    "arr=list(map(int,input().strip().split()))[:n]\n",
    "\n",
    "for i in range(len(arr)):\n",
    "    for j in range(1,n-i):\n",
    "        if(arr[j-1] >arr[j]):\n",
    "            temp=arr[j-1]\n",
    "            arr[j-1]=arr[j]\n",
    "            arr[j]=temp\n",
    "print(arr)"
   ]
  },
  {
   "cell_type": "code",
   "execution_count": null,
   "metadata": {},
   "outputs": [],
   "source": [
    "arr=list(map(int,input().strip().split()))"
   ]
  },
  {
   "cell_type": "code",
   "execution_count": 3,
   "metadata": {},
   "outputs": [
    {
     "name": "stdout",
     "output_type": "stream",
     "text": [
      "str1=geeksforgeeks\n",
      "str2=geeksgeeksfor\n",
      "anagram\n"
     ]
    }
   ],
   "source": [
    "#anagram\n",
    "def anagram(str1,str2):\n",
    "    if len(str1)!=len(str2):\n",
    "        return False\n",
    "    value=0\n",
    "    for i in range(0,len(str1)):\n",
    "        #XOR operation\n",
    "        value=value^ord(str1[i])\n",
    "        value=value^ord(str2[i])\n",
    "    return value==0\n",
    "str1=input(\"str1=\")\n",
    "str2=input(\"str2=\")\n",
    "if(anagram(str1,str2)):\n",
    "    print(\"anagram\")\n",
    "else:\n",
    "    print(\"not anagram\")\n",
    "    "
   ]
  },
  {
   "cell_type": "code",
   "execution_count": null,
   "metadata": {},
   "outputs": [],
   "source": []
  },
  {
   "cell_type": "code",
   "execution_count": null,
   "metadata": {},
   "outputs": [],
   "source": []
  }
 ],
 "metadata": {
  "kernelspec": {
   "display_name": "Python 3",
   "language": "python",
   "name": "python3"
  },
  "language_info": {
   "codemirror_mode": {
    "name": "ipython",
    "version": 3
   },
   "file_extension": ".py",
   "mimetype": "text/x-python",
   "name": "python",
   "nbconvert_exporter": "python",
   "pygments_lexer": "ipython3",
   "version": "3.7.3"
  }
 },
 "nbformat": 4,
 "nbformat_minor": 2
}
